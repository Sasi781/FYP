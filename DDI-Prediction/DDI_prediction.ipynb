{
 "cells": [
  {
   "cell_type": "code",
   "execution_count": 1,
   "metadata": {},
   "outputs": [
    {
     "name": "stderr",
     "output_type": "stream",
     "text": [
      "Using TensorFlow backend.\n"
     ]
    }
   ],
   "source": [
    "# %cd ../DDI_model/ddi_model/\n",
    "\n",
    "from data_load import *\n",
    "from model import DDI_model"
   ]
  },
  {
   "cell_type": "code",
   "execution_count": 2,
   "metadata": {},
   "outputs": [],
   "source": [
    "import tensorflow as tf\n",
    "from keras import backend as K\n",
    "\n",
    "import os\n",
    "os.environ['CUDA_VISIBLE_DEVICES'] = '1'\n",
    "\n",
    "config = tf.ConfigProto()\n",
    "config.gpu_options.per_process_gpu_memory_fraction = 0.3\n",
    "session = tf.Session(config=config)\n",
    "K.set_session(session)"
   ]
  },
  {
   "cell_type": "code",
   "execution_count": 3,
   "metadata": {},
   "outputs": [],
   "source": [
    "np.random.seed(3)\n",
    "tf.random.set_random_seed(3)"
   ]
  },
  {
   "cell_type": "markdown",
   "metadata": {},
   "source": [
    "## DDI model "
   ]
  },
  {
   "cell_type": "code",
   "execution_count": 4,
   "metadata": {},
   "outputs": [
    {
     "name": "stdout",
     "output_type": "stream",
     "text": [
      "WARNING:tensorflow:From c:\\Users\\sasin\\anaconda3\\envs\\test\\lib\\site-packages\\keras\\backend\\tensorflow_backend.py:68: The name tf.get_default_graph is deprecated. Please use tf.compat.v1.get_default_graph instead.\n",
      "\n",
      "WARNING:tensorflow:From c:\\Users\\sasin\\anaconda3\\envs\\test\\lib\\site-packages\\keras\\backend\\tensorflow_backend.py:508: The name tf.placeholder is deprecated. Please use tf.compat.v1.placeholder instead.\n",
      "\n",
      "WARNING:tensorflow:From c:\\Users\\sasin\\anaconda3\\envs\\test\\lib\\site-packages\\keras\\backend\\tensorflow_backend.py:3837: The name tf.random_uniform is deprecated. Please use tf.random.uniform instead.\n",
      "\n",
      "WARNING:tensorflow:From c:\\Users\\sasin\\anaconda3\\envs\\test\\lib\\site-packages\\keras\\backend\\tensorflow_backend.py:127: The name tf.placeholder_with_default is deprecated. Please use tf.compat.v1.placeholder_with_default instead.\n",
      "\n"
     ]
    },
    {
     "name": "stderr",
     "output_type": "stream",
     "text": [
      "c:\\Users\\sasin\\Desktop\\FYP\\phase-2\\DDI-Prediction\\model.py:29: UserWarning: Update your `Dense` call to the Keras 2 API: `Dense(activation=\"elu\", input_shape=(978,), units=978)`\n",
      "  shared_layer.add(Dense(output_dim=self.input_drug_dim, activation=self.drug_activation,input_shape=(978,)))\n",
      "c:\\Users\\sasin\\Desktop\\FYP\\phase-2\\DDI-Prediction\\model.py:46: UserWarning: Update your `Dense` call to the Keras 2 API: `Dense(kernel_regularizer=<keras.reg..., activation=\"elu\", input_shape=(978,), units=100)`\n",
      "  shared_layer2.add(Dense(output_dim=self.drug_emb_dim, kernel_regularizer=l2(0.001), activation=self.drug_activation,input_shape=(978,)))\n"
     ]
    },
    {
     "name": "stdout",
     "output_type": "stream",
     "text": [
      "WARNING:tensorflow:From c:\\Users\\sasin\\anaconda3\\envs\\test\\lib\\site-packages\\keras\\optimizers.py:757: The name tf.train.Optimizer is deprecated. Please use tf.compat.v1.train.Optimizer instead.\n",
      "\n"
     ]
    }
   ],
   "source": [
    "ddi_model = DDI_model()"
   ]
  },
  {
   "cell_type": "markdown",
   "metadata": {},
   "source": [
    "### Load data"
   ]
  },
  {
   "cell_type": "code",
   "execution_count": 5,
   "metadata": {},
   "outputs": [
    {
     "name": "stdout",
     "output_type": "stream",
     "text": [
      "Including reverse pairs:  (38520, 4)\n"
     ]
    }
   ],
   "source": [
    "train_data = load_train_example()\n",
    "ts_exp = load_exp()"
   ]
  },
  {
   "cell_type": "code",
   "execution_count": 6,
   "metadata": {},
   "outputs": [
    {
     "data": {
      "text/html": [
       "<div>\n",
       "<style scoped>\n",
       "    .dataframe tbody tr th:only-of-type {\n",
       "        vertical-align: middle;\n",
       "    }\n",
       "\n",
       "    .dataframe tbody tr th {\n",
       "        vertical-align: top;\n",
       "    }\n",
       "\n",
       "    .dataframe thead th {\n",
       "        text-align: right;\n",
       "    }\n",
       "</style>\n",
       "<table border=\"1\" class=\"dataframe\">\n",
       "  <thead>\n",
       "    <tr style=\"text-align: right;\">\n",
       "      <th></th>\n",
       "      <th>pubchem</th>\n",
       "      <th>0</th>\n",
       "      <th>1</th>\n",
       "      <th>2</th>\n",
       "      <th>3</th>\n",
       "      <th>4</th>\n",
       "      <th>5</th>\n",
       "      <th>6</th>\n",
       "      <th>7</th>\n",
       "      <th>8</th>\n",
       "      <th>...</th>\n",
       "      <th>968</th>\n",
       "      <th>969</th>\n",
       "      <th>970</th>\n",
       "      <th>971</th>\n",
       "      <th>972</th>\n",
       "      <th>973</th>\n",
       "      <th>974</th>\n",
       "      <th>975</th>\n",
       "      <th>976</th>\n",
       "      <th>977</th>\n",
       "    </tr>\n",
       "  </thead>\n",
       "  <tbody>\n",
       "    <tr>\n",
       "      <th>0</th>\n",
       "      <td>4107</td>\n",
       "      <td>2.023156</td>\n",
       "      <td>-0.637667</td>\n",
       "      <td>0.508418</td>\n",
       "      <td>0.903529</td>\n",
       "      <td>-0.866439</td>\n",
       "      <td>-1.153608</td>\n",
       "      <td>-0.651694</td>\n",
       "      <td>0.290923</td>\n",
       "      <td>-1.329640</td>\n",
       "      <td>...</td>\n",
       "      <td>0.458290</td>\n",
       "      <td>1.730179</td>\n",
       "      <td>2.436490</td>\n",
       "      <td>0.775115</td>\n",
       "      <td>-1.366190</td>\n",
       "      <td>1.036381</td>\n",
       "      <td>-0.422190</td>\n",
       "      <td>-1.244668</td>\n",
       "      <td>-0.739446</td>\n",
       "      <td>1.427519</td>\n",
       "    </tr>\n",
       "    <tr>\n",
       "      <th>1</th>\n",
       "      <td>4112</td>\n",
       "      <td>1.602906</td>\n",
       "      <td>1.989409</td>\n",
       "      <td>0.574536</td>\n",
       "      <td>0.841638</td>\n",
       "      <td>-0.151291</td>\n",
       "      <td>-0.006409</td>\n",
       "      <td>-1.177543</td>\n",
       "      <td>0.108901</td>\n",
       "      <td>-1.248328</td>\n",
       "      <td>...</td>\n",
       "      <td>0.243781</td>\n",
       "      <td>0.164179</td>\n",
       "      <td>1.492621</td>\n",
       "      <td>0.532075</td>\n",
       "      <td>-0.731411</td>\n",
       "      <td>1.867515</td>\n",
       "      <td>-0.768676</td>\n",
       "      <td>-0.110849</td>\n",
       "      <td>-0.471595</td>\n",
       "      <td>-0.199671</td>\n",
       "    </tr>\n",
       "    <tr>\n",
       "      <th>2</th>\n",
       "      <td>40976</td>\n",
       "      <td>1.895954</td>\n",
       "      <td>0.441047</td>\n",
       "      <td>-0.700006</td>\n",
       "      <td>0.799433</td>\n",
       "      <td>0.545501</td>\n",
       "      <td>1.304197</td>\n",
       "      <td>-2.358831</td>\n",
       "      <td>-0.688144</td>\n",
       "      <td>1.257694</td>\n",
       "      <td>...</td>\n",
       "      <td>-1.377463</td>\n",
       "      <td>1.571880</td>\n",
       "      <td>0.824694</td>\n",
       "      <td>-0.652848</td>\n",
       "      <td>-0.748871</td>\n",
       "      <td>0.864399</td>\n",
       "      <td>0.103032</td>\n",
       "      <td>0.173230</td>\n",
       "      <td>2.516417</td>\n",
       "      <td>-0.074230</td>\n",
       "    </tr>\n",
       "    <tr>\n",
       "      <th>3</th>\n",
       "      <td>6447131</td>\n",
       "      <td>0.433131</td>\n",
       "      <td>0.784507</td>\n",
       "      <td>0.243227</td>\n",
       "      <td>-0.197981</td>\n",
       "      <td>0.152966</td>\n",
       "      <td>0.335183</td>\n",
       "      <td>0.116761</td>\n",
       "      <td>-0.984858</td>\n",
       "      <td>-0.753475</td>\n",
       "      <td>...</td>\n",
       "      <td>-0.125810</td>\n",
       "      <td>0.195772</td>\n",
       "      <td>0.669960</td>\n",
       "      <td>-0.577917</td>\n",
       "      <td>-0.065740</td>\n",
       "      <td>0.828880</td>\n",
       "      <td>0.176177</td>\n",
       "      <td>0.566666</td>\n",
       "      <td>1.468457</td>\n",
       "      <td>-0.443092</td>\n",
       "    </tr>\n",
       "    <tr>\n",
       "      <th>4</th>\n",
       "      <td>32797</td>\n",
       "      <td>0.746283</td>\n",
       "      <td>0.889106</td>\n",
       "      <td>-0.010947</td>\n",
       "      <td>-0.025273</td>\n",
       "      <td>-0.301981</td>\n",
       "      <td>0.212814</td>\n",
       "      <td>-0.806927</td>\n",
       "      <td>-0.404837</td>\n",
       "      <td>0.290474</td>\n",
       "      <td>...</td>\n",
       "      <td>1.306422</td>\n",
       "      <td>0.491085</td>\n",
       "      <td>0.827774</td>\n",
       "      <td>-0.567214</td>\n",
       "      <td>-0.006600</td>\n",
       "      <td>0.850433</td>\n",
       "      <td>0.287322</td>\n",
       "      <td>0.706342</td>\n",
       "      <td>0.591549</td>\n",
       "      <td>-0.721958</td>\n",
       "    </tr>\n",
       "    <tr>\n",
       "      <th>...</th>\n",
       "      <td>...</td>\n",
       "      <td>...</td>\n",
       "      <td>...</td>\n",
       "      <td>...</td>\n",
       "      <td>...</td>\n",
       "      <td>...</td>\n",
       "      <td>...</td>\n",
       "      <td>...</td>\n",
       "      <td>...</td>\n",
       "      <td>...</td>\n",
       "      <td>...</td>\n",
       "      <td>...</td>\n",
       "      <td>...</td>\n",
       "      <td>...</td>\n",
       "      <td>...</td>\n",
       "      <td>...</td>\n",
       "      <td>...</td>\n",
       "      <td>...</td>\n",
       "      <td>...</td>\n",
       "      <td>...</td>\n",
       "      <td>...</td>\n",
       "    </tr>\n",
       "    <tr>\n",
       "      <th>640</th>\n",
       "      <td>2022</td>\n",
       "      <td>-0.535473</td>\n",
       "      <td>2.627563</td>\n",
       "      <td>0.877132</td>\n",
       "      <td>2.771075</td>\n",
       "      <td>0.199708</td>\n",
       "      <td>3.022818</td>\n",
       "      <td>-1.361308</td>\n",
       "      <td>-0.698159</td>\n",
       "      <td>-5.497741</td>\n",
       "      <td>...</td>\n",
       "      <td>1.604584</td>\n",
       "      <td>2.081344</td>\n",
       "      <td>2.354659</td>\n",
       "      <td>1.720214</td>\n",
       "      <td>-2.276593</td>\n",
       "      <td>2.567887</td>\n",
       "      <td>2.334205</td>\n",
       "      <td>-1.136895</td>\n",
       "      <td>1.462881</td>\n",
       "      <td>1.668208</td>\n",
       "    </tr>\n",
       "    <tr>\n",
       "      <th>641</th>\n",
       "      <td>4075</td>\n",
       "      <td>1.810088</td>\n",
       "      <td>0.249091</td>\n",
       "      <td>-1.155589</td>\n",
       "      <td>1.369188</td>\n",
       "      <td>-3.312798</td>\n",
       "      <td>-2.139150</td>\n",
       "      <td>-2.526536</td>\n",
       "      <td>-4.853147</td>\n",
       "      <td>-0.228336</td>\n",
       "      <td>...</td>\n",
       "      <td>4.090223</td>\n",
       "      <td>3.154195</td>\n",
       "      <td>3.439869</td>\n",
       "      <td>-0.582540</td>\n",
       "      <td>0.166122</td>\n",
       "      <td>1.526028</td>\n",
       "      <td>0.779961</td>\n",
       "      <td>0.475549</td>\n",
       "      <td>-0.296309</td>\n",
       "      <td>1.540952</td>\n",
       "    </tr>\n",
       "    <tr>\n",
       "      <th>642</th>\n",
       "      <td>38904</td>\n",
       "      <td>0.555673</td>\n",
       "      <td>0.910823</td>\n",
       "      <td>0.078900</td>\n",
       "      <td>-0.092938</td>\n",
       "      <td>-0.275560</td>\n",
       "      <td>0.679947</td>\n",
       "      <td>-0.573681</td>\n",
       "      <td>-0.122865</td>\n",
       "      <td>0.373012</td>\n",
       "      <td>...</td>\n",
       "      <td>-0.356132</td>\n",
       "      <td>-0.234931</td>\n",
       "      <td>0.212759</td>\n",
       "      <td>-1.142739</td>\n",
       "      <td>0.795973</td>\n",
       "      <td>0.585458</td>\n",
       "      <td>0.100743</td>\n",
       "      <td>0.295634</td>\n",
       "      <td>0.422708</td>\n",
       "      <td>-0.656780</td>\n",
       "    </tr>\n",
       "    <tr>\n",
       "      <th>643</th>\n",
       "      <td>4091</td>\n",
       "      <td>1.739901</td>\n",
       "      <td>1.904180</td>\n",
       "      <td>0.078364</td>\n",
       "      <td>1.251029</td>\n",
       "      <td>-1.224811</td>\n",
       "      <td>-1.048293</td>\n",
       "      <td>-0.932539</td>\n",
       "      <td>-0.341421</td>\n",
       "      <td>-1.325957</td>\n",
       "      <td>...</td>\n",
       "      <td>1.126908</td>\n",
       "      <td>0.832467</td>\n",
       "      <td>1.845721</td>\n",
       "      <td>0.352615</td>\n",
       "      <td>-0.526953</td>\n",
       "      <td>1.364348</td>\n",
       "      <td>0.491616</td>\n",
       "      <td>0.124387</td>\n",
       "      <td>-0.524020</td>\n",
       "      <td>0.636648</td>\n",
       "    </tr>\n",
       "    <tr>\n",
       "      <th>644</th>\n",
       "      <td>4095</td>\n",
       "      <td>0.971857</td>\n",
       "      <td>1.415747</td>\n",
       "      <td>-0.131522</td>\n",
       "      <td>0.534041</td>\n",
       "      <td>0.133980</td>\n",
       "      <td>0.202780</td>\n",
       "      <td>-1.918148</td>\n",
       "      <td>-0.217988</td>\n",
       "      <td>0.293209</td>\n",
       "      <td>...</td>\n",
       "      <td>-0.162216</td>\n",
       "      <td>-0.222719</td>\n",
       "      <td>0.562723</td>\n",
       "      <td>-0.746278</td>\n",
       "      <td>-0.300509</td>\n",
       "      <td>0.446036</td>\n",
       "      <td>-0.768513</td>\n",
       "      <td>-0.278144</td>\n",
       "      <td>-0.328840</td>\n",
       "      <td>-1.766437</td>\n",
       "    </tr>\n",
       "  </tbody>\n",
       "</table>\n",
       "<p>645 rows × 979 columns</p>\n",
       "</div>"
      ],
      "text/plain": [
       "     pubchem         0         1         2         3         4         5  \\\n",
       "0       4107  2.023156 -0.637667  0.508418  0.903529 -0.866439 -1.153608   \n",
       "1       4112  1.602906  1.989409  0.574536  0.841638 -0.151291 -0.006409   \n",
       "2      40976  1.895954  0.441047 -0.700006  0.799433  0.545501  1.304197   \n",
       "3    6447131  0.433131  0.784507  0.243227 -0.197981  0.152966  0.335183   \n",
       "4      32797  0.746283  0.889106 -0.010947 -0.025273 -0.301981  0.212814   \n",
       "..       ...       ...       ...       ...       ...       ...       ...   \n",
       "640     2022 -0.535473  2.627563  0.877132  2.771075  0.199708  3.022818   \n",
       "641     4075  1.810088  0.249091 -1.155589  1.369188 -3.312798 -2.139150   \n",
       "642    38904  0.555673  0.910823  0.078900 -0.092938 -0.275560  0.679947   \n",
       "643     4091  1.739901  1.904180  0.078364  1.251029 -1.224811 -1.048293   \n",
       "644     4095  0.971857  1.415747 -0.131522  0.534041  0.133980  0.202780   \n",
       "\n",
       "            6         7         8  ...       968       969       970  \\\n",
       "0   -0.651694  0.290923 -1.329640  ...  0.458290  1.730179  2.436490   \n",
       "1   -1.177543  0.108901 -1.248328  ...  0.243781  0.164179  1.492621   \n",
       "2   -2.358831 -0.688144  1.257694  ... -1.377463  1.571880  0.824694   \n",
       "3    0.116761 -0.984858 -0.753475  ... -0.125810  0.195772  0.669960   \n",
       "4   -0.806927 -0.404837  0.290474  ...  1.306422  0.491085  0.827774   \n",
       "..        ...       ...       ...  ...       ...       ...       ...   \n",
       "640 -1.361308 -0.698159 -5.497741  ...  1.604584  2.081344  2.354659   \n",
       "641 -2.526536 -4.853147 -0.228336  ...  4.090223  3.154195  3.439869   \n",
       "642 -0.573681 -0.122865  0.373012  ... -0.356132 -0.234931  0.212759   \n",
       "643 -0.932539 -0.341421 -1.325957  ...  1.126908  0.832467  1.845721   \n",
       "644 -1.918148 -0.217988  0.293209  ... -0.162216 -0.222719  0.562723   \n",
       "\n",
       "          971       972       973       974       975       976       977  \n",
       "0    0.775115 -1.366190  1.036381 -0.422190 -1.244668 -0.739446  1.427519  \n",
       "1    0.532075 -0.731411  1.867515 -0.768676 -0.110849 -0.471595 -0.199671  \n",
       "2   -0.652848 -0.748871  0.864399  0.103032  0.173230  2.516417 -0.074230  \n",
       "3   -0.577917 -0.065740  0.828880  0.176177  0.566666  1.468457 -0.443092  \n",
       "4   -0.567214 -0.006600  0.850433  0.287322  0.706342  0.591549 -0.721958  \n",
       "..        ...       ...       ...       ...       ...       ...       ...  \n",
       "640  1.720214 -2.276593  2.567887  2.334205 -1.136895  1.462881  1.668208  \n",
       "641 -0.582540  0.166122  1.526028  0.779961  0.475549 -0.296309  1.540952  \n",
       "642 -1.142739  0.795973  0.585458  0.100743  0.295634  0.422708 -0.656780  \n",
       "643  0.352615 -0.526953  1.364348  0.491616  0.124387 -0.524020  0.636648  \n",
       "644 -0.746278 -0.300509  0.446036 -0.768513 -0.278144 -0.328840 -1.766437  \n",
       "\n",
       "[645 rows x 979 columns]"
      ]
     },
     "execution_count": 6,
     "metadata": {},
     "output_type": "execute_result"
    }
   ],
   "source": [
    "ts_exp"
   ]
  },
  {
   "cell_type": "code",
   "execution_count": 7,
   "metadata": {},
   "outputs": [
    {
     "data": {
      "text/html": [
       "<div>\n",
       "<style scoped>\n",
       "    .dataframe tbody tr th:only-of-type {\n",
       "        vertical-align: middle;\n",
       "    }\n",
       "\n",
       "    .dataframe tbody tr th {\n",
       "        vertical-align: top;\n",
       "    }\n",
       "\n",
       "    .dataframe thead th {\n",
       "        text-align: right;\n",
       "    }\n",
       "</style>\n",
       "<table border=\"1\" class=\"dataframe\">\n",
       "  <thead>\n",
       "    <tr style=\"text-align: right;\">\n",
       "      <th></th>\n",
       "      <th>drug1</th>\n",
       "      <th>drug2</th>\n",
       "      <th>SE</th>\n",
       "      <th>label</th>\n",
       "    </tr>\n",
       "  </thead>\n",
       "  <tbody>\n",
       "    <tr>\n",
       "      <th>0</th>\n",
       "      <td>4595</td>\n",
       "      <td>122316</td>\n",
       "      <td>0</td>\n",
       "      <td>0.0</td>\n",
       "    </tr>\n",
       "    <tr>\n",
       "      <th>1</th>\n",
       "      <td>3355</td>\n",
       "      <td>60198</td>\n",
       "      <td>0</td>\n",
       "      <td>0.0</td>\n",
       "    </tr>\n",
       "    <tr>\n",
       "      <th>2</th>\n",
       "      <td>3899</td>\n",
       "      <td>77993</td>\n",
       "      <td>0</td>\n",
       "      <td>0.0</td>\n",
       "    </tr>\n",
       "    <tr>\n",
       "      <th>3</th>\n",
       "      <td>5379</td>\n",
       "      <td>152945</td>\n",
       "      <td>0</td>\n",
       "      <td>0.0</td>\n",
       "    </tr>\n",
       "    <tr>\n",
       "      <th>4</th>\n",
       "      <td>2088</td>\n",
       "      <td>3449</td>\n",
       "      <td>0</td>\n",
       "      <td>0.0</td>\n",
       "    </tr>\n",
       "    <tr>\n",
       "      <th>...</th>\n",
       "      <td>...</td>\n",
       "      <td>...</td>\n",
       "      <td>...</td>\n",
       "      <td>...</td>\n",
       "    </tr>\n",
       "    <tr>\n",
       "      <th>19255</th>\n",
       "      <td>62924</td>\n",
       "      <td>2771</td>\n",
       "      <td>962</td>\n",
       "      <td>1.0</td>\n",
       "    </tr>\n",
       "    <tr>\n",
       "      <th>19256</th>\n",
       "      <td>59708</td>\n",
       "      <td>4691</td>\n",
       "      <td>962</td>\n",
       "      <td>1.0</td>\n",
       "    </tr>\n",
       "    <tr>\n",
       "      <th>19257</th>\n",
       "      <td>3639</td>\n",
       "      <td>2955</td>\n",
       "      <td>962</td>\n",
       "      <td>1.0</td>\n",
       "    </tr>\n",
       "    <tr>\n",
       "      <th>19258</th>\n",
       "      <td>4594</td>\n",
       "      <td>3958</td>\n",
       "      <td>962</td>\n",
       "      <td>1.0</td>\n",
       "    </tr>\n",
       "    <tr>\n",
       "      <th>19259</th>\n",
       "      <td>4917</td>\n",
       "      <td>4889</td>\n",
       "      <td>962</td>\n",
       "      <td>1.0</td>\n",
       "    </tr>\n",
       "  </tbody>\n",
       "</table>\n",
       "<p>38520 rows × 4 columns</p>\n",
       "</div>"
      ],
      "text/plain": [
       "       drug1   drug2   SE  label\n",
       "0       4595  122316    0    0.0\n",
       "1       3355   60198    0    0.0\n",
       "2       3899   77993    0    0.0\n",
       "3       5379  152945    0    0.0\n",
       "4       2088    3449    0    0.0\n",
       "...      ...     ...  ...    ...\n",
       "19255  62924    2771  962    1.0\n",
       "19256  59708    4691  962    1.0\n",
       "19257   3639    2955  962    1.0\n",
       "19258   4594    3958  962    1.0\n",
       "19259   4917    4889  962    1.0\n",
       "\n",
       "[38520 rows x 4 columns]"
      ]
     },
     "execution_count": 7,
     "metadata": {},
     "output_type": "execute_result"
    }
   ],
   "source": [
    "train_data"
   ]
  },
  {
   "cell_type": "markdown",
   "metadata": {},
   "source": [
    "### Load model and Evaluation"
   ]
  },
  {
   "cell_type": "code",
   "execution_count": 8,
   "metadata": {},
   "outputs": [
    {
     "data": {
      "text/plain": [
       "38520"
      ]
     },
     "execution_count": 8,
     "metadata": {},
     "output_type": "execute_result"
    }
   ],
   "source": [
    "len(train_data.iloc[:,:3])\n",
    "# ts_exp[:1]"
   ]
  },
  {
   "cell_type": "code",
   "execution_count": 9,
   "metadata": {
    "scrolled": true
   },
   "outputs": [
    {
     "name": "stdout",
     "output_type": "stream",
     "text": [
      "WARNING:tensorflow:From c:\\Users\\sasin\\anaconda3\\envs\\test\\lib\\site-packages\\keras\\backend\\tensorflow_backend.py:168: The name tf.get_default_session is deprecated. Please use tf.compat.v1.get_default_session instead.\n",
      "\n",
      "WARNING:tensorflow:From c:\\Users\\sasin\\anaconda3\\envs\\test\\lib\\site-packages\\keras\\backend\\tensorflow_backend.py:184: The name tf.global_variables is deprecated. Please use tf.compat.v1.global_variables instead.\n",
      "\n",
      "WARNING:tensorflow:From c:\\Users\\sasin\\anaconda3\\envs\\test\\lib\\site-packages\\keras\\backend\\tensorflow_backend.py:193: The name tf.is_variable_initialized is deprecated. Please use tf.compat.v1.is_variable_initialized instead.\n",
      "\n",
      "WARNING:tensorflow:From c:\\Users\\sasin\\anaconda3\\envs\\test\\lib\\site-packages\\keras\\backend\\tensorflow_backend.py:200: The name tf.variables_initializer is deprecated. Please use tf.compat.v1.variables_initializer instead.\n",
      "\n"
     ]
    },
    {
     "data": {
      "image/png": "[encoded data removed]",
      "text/plain": [
       "<Figure size 432x432 with 1 Axes>"
      ]
     },
     "metadata": {
      "needs_background": "light"
     },
     "output_type": "display_data"
    },
    {
     "data": {
      "image/png": "[encoded data removed]",
      "text/plain": [
       "<Figure size 432x432 with 1 Axes>"
      ]
     },
     "metadata": {
      "needs_background": "light"
     },
     "output_type": "display_data"
    },
    {
     "name": "stdout",
     "output_type": "stream",
     "text": [
      "Test set predicted === \n"
     ]
    }
   ],
   "source": [
    "# load pretrained model weights\n",
    "ddi_model.load_model(model_load_path='trained_model/', model_name='ddi_model_weights.h5', threshold_name='ddi_model_threshold.csv')\n",
    "\n",
    "# test model evaluation with example data\n",
    "prediced_label = ddi_model.test(test_x=train_data.iloc[:,:3], test_y=train_data.iloc[:,3], exp_df=ts_exp)"
   ]
  },
  {
   "cell_type": "code",
   "execution_count": 10,
   "metadata": {},
   "outputs": [
    {
     "data": {
      "text/html": [
       "<div>\n",
       "<style scoped>\n",
       "    .dataframe tbody tr th:only-of-type {\n",
       "        vertical-align: middle;\n",
       "    }\n",
       "\n",
       "    .dataframe tbody tr th {\n",
       "        vertical-align: top;\n",
       "    }\n",
       "\n",
       "    .dataframe thead th {\n",
       "        text-align: right;\n",
       "    }\n",
       "</style>\n",
       "<table border=\"1\" class=\"dataframe\">\n",
       "  <thead>\n",
       "    <tr style=\"text-align: right;\">\n",
       "      <th></th>\n",
       "      <th>drug1</th>\n",
       "      <th>drug2</th>\n",
       "      <th>SE</th>\n",
       "      <th>label</th>\n",
       "      <th>predicted_label_x</th>\n",
       "      <th>predicted_label_y</th>\n",
       "    </tr>\n",
       "  </thead>\n",
       "  <tbody>\n",
       "    <tr>\n",
       "      <th>0</th>\n",
       "      <td>4595</td>\n",
       "      <td>122316</td>\n",
       "      <td>0</td>\n",
       "      <td>0.0</td>\n",
       "      <td>0</td>\n",
       "      <td>0</td>\n",
       "    </tr>\n",
       "    <tr>\n",
       "      <th>1</th>\n",
       "      <td>3355</td>\n",
       "      <td>60198</td>\n",
       "      <td>0</td>\n",
       "      <td>0.0</td>\n",
       "      <td>0</td>\n",
       "      <td>0</td>\n",
       "    </tr>\n",
       "    <tr>\n",
       "      <th>2</th>\n",
       "      <td>3899</td>\n",
       "      <td>77993</td>\n",
       "      <td>0</td>\n",
       "      <td>0.0</td>\n",
       "      <td>0</td>\n",
       "      <td>0</td>\n",
       "    </tr>\n",
       "    <tr>\n",
       "      <th>3</th>\n",
       "      <td>5379</td>\n",
       "      <td>152945</td>\n",
       "      <td>0</td>\n",
       "      <td>0.0</td>\n",
       "      <td>0</td>\n",
       "      <td>0</td>\n",
       "    </tr>\n",
       "    <tr>\n",
       "      <th>4</th>\n",
       "      <td>2088</td>\n",
       "      <td>3449</td>\n",
       "      <td>0</td>\n",
       "      <td>0.0</td>\n",
       "      <td>0</td>\n",
       "      <td>0</td>\n",
       "    </tr>\n",
       "    <tr>\n",
       "      <th>...</th>\n",
       "      <td>...</td>\n",
       "      <td>...</td>\n",
       "      <td>...</td>\n",
       "      <td>...</td>\n",
       "      <td>...</td>\n",
       "      <td>...</td>\n",
       "    </tr>\n",
       "    <tr>\n",
       "      <th>38515</th>\n",
       "      <td>62924</td>\n",
       "      <td>2771</td>\n",
       "      <td>962</td>\n",
       "      <td>1.0</td>\n",
       "      <td>1</td>\n",
       "      <td>1</td>\n",
       "    </tr>\n",
       "    <tr>\n",
       "      <th>38516</th>\n",
       "      <td>59708</td>\n",
       "      <td>4691</td>\n",
       "      <td>962</td>\n",
       "      <td>1.0</td>\n",
       "      <td>1</td>\n",
       "      <td>1</td>\n",
       "    </tr>\n",
       "    <tr>\n",
       "      <th>38517</th>\n",
       "      <td>3639</td>\n",
       "      <td>2955</td>\n",
       "      <td>962</td>\n",
       "      <td>1.0</td>\n",
       "      <td>1</td>\n",
       "      <td>1</td>\n",
       "    </tr>\n",
       "    <tr>\n",
       "      <th>38518</th>\n",
       "      <td>4594</td>\n",
       "      <td>3958</td>\n",
       "      <td>962</td>\n",
       "      <td>1.0</td>\n",
       "      <td>1</td>\n",
       "      <td>1</td>\n",
       "    </tr>\n",
       "    <tr>\n",
       "      <th>38519</th>\n",
       "      <td>4917</td>\n",
       "      <td>4889</td>\n",
       "      <td>962</td>\n",
       "      <td>1.0</td>\n",
       "      <td>1</td>\n",
       "      <td>1</td>\n",
       "    </tr>\n",
       "  </tbody>\n",
       "</table>\n",
       "<p>38520 rows × 6 columns</p>\n",
       "</div>"
      ],
      "text/plain": [
       "       drug1   drug2   SE  label  predicted_label_x  predicted_label_y\n",
       "0       4595  122316    0    0.0                  0                  0\n",
       "1       3355   60198    0    0.0                  0                  0\n",
       "2       3899   77993    0    0.0                  0                  0\n",
       "3       5379  152945    0    0.0                  0                  0\n",
       "4       2088    3449    0    0.0                  0                  0\n",
       "...      ...     ...  ...    ...                ...                ...\n",
       "38515  62924    2771  962    1.0                  1                  1\n",
       "38516  59708    4691  962    1.0                  1                  1\n",
       "38517   3639    2955  962    1.0                  1                  1\n",
       "38518   4594    3958  962    1.0                  1                  1\n",
       "38519   4917    4889  962    1.0                  1                  1\n",
       "\n",
       "[38520 rows x 6 columns]"
      ]
     },
     "execution_count": 10,
     "metadata": {},
     "output_type": "execute_result"
    }
   ],
   "source": [
    "prediced_label.iloc[:,:6]"
   ]
  },
  {
   "cell_type": "code",
   "execution_count": 11,
   "metadata": {},
   "outputs": [
    {
     "name": "stdout",
     "output_type": "stream",
     "text": [
      "Accuracy:  0.8091381100726895\n"
     ]
    }
   ],
   "source": [
    "c=0\n",
    "for i in range(0,len(prediced_label['final_predicted_label'])):\n",
    "    if(prediced_label['final_predicted_label'][i]==prediced_label['label'][i]):\n",
    "        c=c+1\n",
    "print(\"Accuracy: \",c/len(prediced_label['final_predicted_label']))"
   ]
  },
  {
   "cell_type": "code",
   "execution_count": 12,
   "metadata": {},
   "outputs": [
    {
     "data": {
      "text/html": [
       "<div>\n",
       "<style scoped>\n",
       "    .dataframe tbody tr th:only-of-type {\n",
       "        vertical-align: middle;\n",
       "    }\n",
       "\n",
       "    .dataframe tbody tr th {\n",
       "        vertical-align: top;\n",
       "    }\n",
       "\n",
       "    .dataframe thead th {\n",
       "        text-align: right;\n",
       "    }\n",
       "</style>\n",
       "<table border=\"1\" class=\"dataframe\">\n",
       "  <thead>\n",
       "    <tr style=\"text-align: right;\">\n",
       "      <th></th>\n",
       "      <th>drug1</th>\n",
       "      <th>drug2</th>\n",
       "      <th>SE</th>\n",
       "    </tr>\n",
       "  </thead>\n",
       "  <tbody>\n",
       "    <tr>\n",
       "      <th>300</th>\n",
       "      <td>2118.0</td>\n",
       "      <td>5466.0</td>\n",
       "      <td>15.0</td>\n",
       "    </tr>\n",
       "  </tbody>\n",
       "</table>\n",
       "</div>"
      ],
      "text/plain": [
       "      drug1   drug2    SE\n",
       "300  2118.0  5466.0  15.0"
      ]
     },
     "execution_count": 12,
     "metadata": {},
     "output_type": "execute_result"
    }
   ],
   "source": [
    "ind=300\n",
    "data=pd.DataFrame([train_data.iloc[ind]])\n",
    "data.iloc[:,:3]"
   ]
  },
  {
   "cell_type": "code",
   "execution_count": 13,
   "metadata": {},
   "outputs": [],
   "source": [
    "drug1=int(data['drug1'][ind])\n",
    "drug2=int(data['drug2'][ind])\n",
    "side_effect=int(data['SE'][ind])"
   ]
  },
  {
   "cell_type": "code",
   "execution_count": 14,
   "metadata": {},
   "outputs": [
    {
     "name": "stdout",
     "output_type": "stream",
     "text": [
      "=====Drug1=====\n",
      "Chemical Name: 8-chloro-1-methyl-6-phenyl-4H-[1,2,4]triazolo[4,3-a][1,4]benzodiazepine\n",
      "Brand Names: ['alprazolam', 'Xanax', '28981-97-7', 'Niravam', 'Trankimazin', 'Tranquinal', 'Alplax', 'Constan', 'Frontal', 'Solanax', 'Tafil', 'Xanor', 'Alpronax', 'Intensol', 'Tricalma', 'Xanax XR', 'Alcelam', 'Alpram', 'Alzolam', 'Anpress', 'Bestrol', 'Neurol', 'Prinox', 'Relaxol', 'Restyl', 'Valeans', 'Xanagis', 'Zolarem', 'Zoldac', 'Zotran', 'Alpaz', 'Alzam', 'Panix', 'Apo-Alpraz', 'Alprazolam intensol', 'Alprazolamum', 'Pharnax', 'Prazolan', 'Tensivan', 'Xanolam', 'Zacetin', 'Zanapam', '8-Chloro-1-methyl-6-phenyl-4H-[1,2,4]triazolo[4,3-a][1,4]benzodiazepine', 'Algad', 'Alprax', 'Helex', 'Ksalol', 'Mialin', 'Prazam', 'Unilan', 'Zaxan', 'Zenax', 'Zolam', 'Zoldax', 'Zopax', 'Zopic', 'Gen-Alprazolan', 'TUS-1', 'Tafil D', 'Xanax TS', 'D 65MT', 'Alprazolam civ', 'Tus 1', 'Alprazolamum [INN-Latin]', 'Alprazolam extended release tablets', '8-Chloro-1-methyl-6-phenyl-4H-s-triazolo(4,3-a)(1,4)benzodiazepine', 'HSDB 7207', 'UNII-YU55MQ3IZY', 'U 31889', 'U-31889', 'YU55MQ3IZY', 'U-31,889', 'EINECS 249-349-2', 'NSC-760140', 'BRN 1223125', 'Cassadan', 'CHEBI:2611', 'Esparon', 'DTXSID4022577', 'Ralozam', 'Alprox', 'CHEMBL661', 'Novo-Alprazol', '8-Chloro-1-methyl-6-phenyl-4H-s-triazolo[4,3-a][1,4]benzodiazepine', 'Nu-Alpraz', '4H-s-Triazolo(4,3-a)(1,4)benzodiazepine, 8-chloro-1-methyl-6-phenyl-', '4H-(1,2,4)Triazolo(4,3-a)(1,4)benzodiazepine, 8-chloro-1-methyl-6-phenyl-', '4H-[1,2,4]Triazolo[4,3-a][1,4]benzodiazepine, 8-chloro-1-methyl-6-phenyl-', 'DTXCID102577', 'Alprazolan', 'Alzon', 'U 31,889', 'NSC 760140', 'Alprazolam [USAN:USP:INN:BAN:JAN]', 'NCGC00159466-02', 'Alprazolamum (INN-Latin)', '8-Chloro-1-methyl-6-phenyl-4H-s-triazolo(4,3-alpha)(1,4)benzodiazepine', 'ALPRAZOLAM (MART.)', 'ALPRAZOLAM [MART.]', '4H-(1,2,4)Triazolo(4,3-alpha)(1,4)benzodiazepine, 8-chloro-1-methyl-6-phenyl-', '51339-48-1', 'ALPRAZOLAM (EP IMPURITY)', 'ALPRAZOLAM [EP IMPURITY]', 'ALPRAZOLAM (EP MONOGRAPH)', 'ALPRAZOLAM [EP MONOGRAPH]', 'ALPRAZOLAM (USP MONOGRAPH)', 'ALPRAZOLAM [USP MONOGRAPH]', 'Panistat', 'Alprazolam (USAN:USP:INN:BAN:JAN)', 'Staccato-alprazolam', 'SMR000149316', 'Xanax (TN)', 'AZ-002', 'TGAR01P', 'AlprazolamXR', 'Apo-Alpzar', 'XanaxXR', 'DEA No. 2882', '8-chloro-1-methyl-6-phenyl-4h-(1,2,4)triazolo(4,3-a)(1,4)benzodiazepine', '8-chloro-1-methyl-6-phenyl-4H-s-triazolo[4,3-alpha][1,4]benzodiazepine', 'Alprazolam C-IV', '08H', 'ALPRAZOLAMER', 'Alprazolamum (Latin)', 'AP-1002', '3u5j', 'ALPRAZOLAM [MI]', 'ALPRAZOLAM [INN]', 'ALPRAZOLAM [JAN]', 'ALPRAZOLAM [HSDB]', 'ALPRAZOLAM [USAN]', 'AlprazolamExtended Release', 'ALPRAZOLAM [VANDF]', 'SCHEMBL8398', 'ALPRAZOLAM [WHO-DD]', 'BIDD:PXR0150', 'MLS000559000', 'MLS000759485', 'MLS001423979', 'BIDD:GT0475', 'Alprazolam (JP17/USP/INN)', 'GTPL7111', 'Alprazolam, 1mg/ml in Methanol', 'ALPRAZOLAM [ORANGE BOOK]', 'ALPRAZOLAMEXTENDED-RELEASE', 'N05BA12', 'Alprazolam (1mg/mL in Methanol)', 'HMS2051A10', 'HMS3393A10', 'Pharmakon1600-01502395', 'Alprazolam 0.1 mg/ml in Methanol', 'Alprazolam 1.0 mg/ml in Methanol', 'BCP28608', 'Tox21_111692', 'BBL028160', 'BDBM50001728', 'NSC760140', 'STK590494', 'AKOS005066050', 'CCG-100855', 'DB00404', 'NC00105', 'NCGC00159466-03', 'AC-18721', 'BNZB - Human Serum, Benzodiazepine mix B', '8-Chloro-1-methyl-6-phenyl-4H-s-triazolo', 'CAS-28981-97-7', 'DB-242959', 'NS00010452', 'C06817', 'D00225', 'A819702', 'Q319877', 'W-107015', 'BRD-K32398298-001-01-4', 'Alprazolam, European Pharmacopoeia (EP) Reference Standard', '8-chloro-1-methyl-6-phenyl-4H-s-triazolo [4,3-a] [1,4] benzodiazepine', '8-chloro-1-methyl-6-phenyl-4H-s-triazolo [4,3-a][1,4] benzodiazepine', '8-chloro-6-phenyl-1-methyl-4H-s-triazolo-[4,3-a][1,4]benzodiazepine', '(Z)-8-chloro-1-methyl-6-phenyl-4H-benzo[f][1,2,4]triazolo[4,3-a][1,4]diazepine', '4H-(1,2,4)TRIAZOLO(4,3-.ALPHA.)(1,4)BENZODIAZEPINE, 8-CHLORO-1-METHYL-6-PHENYL-', '8-chloranyl-1-methyl-6-phenyl-4H-[1,2,4]triazolo[4,3-a][1,4]benzodiazepine', '12-chloro-3-methyl-9-phenyl-2,4,5,8-tetraazatricyclo[8.4.0.0^{2,6}]tetradeca-1(10),3,5,8,11,13-hexaene', '1246182-61-5']\n",
      "Visualization of Drug structure:\n"
     ]
    },
    {
     "data": {
      "image/png": "[encoded data removed]",
      "text/plain": [
       "<IPython.core.display.Image object>"
      ]
     },
     "metadata": {},
     "output_type": "display_data"
    },
    {
     "name": "stdout",
     "output_type": "stream",
     "text": [
      "=====Drug2=====\n",
      "Chemical Name: 1-[4,4-bis(3-methylthiophen-2-yl)but-3-enyl]piperidine-3-carboxylic acid\n",
      "Brand Names: ['109857-64-9', '1-[4,4-bis(3-methylthiophen-2-yl)but-3-en-1-yl]piperidine-3-carboxylic acid', '1-[4,4-bis(3-methylthiophen-2-yl)but-3-enyl]piperidine-3-carboxylic acid', 'SCHEMBL342814', 'CERAPP_25108', 'CHEMBL1190260', 'DTXSID50861229', 'DTXSID60274467', '(-)-(R)-1-[4,4-Bis(3-methyl-2-thienyl)-3butenyl]nipecotic acid hydrochloride', '(R)-1-(4,4-Bis(3-methylthiophen-2-yl)but-3-en-1-yl)piperidine-3-carboxylic acid', 'BCP09228', 'DS-021234', 'NS00096730', 'EN300-297456', 'A893940']\n",
      "Visualization of Drug structure:\n"
     ]
    },
    {
     "data": {
      "image/png": "[encoded data removed]",
      "text/plain": [
       "<IPython.core.display.Image object>"
      ]
     },
     "metadata": {},
     "output_type": "display_data"
    }
   ],
   "source": [
    "import urllib.request\n",
    "from IPython.display import Image, display\n",
    "\n",
    "def get_2d_image_url(cid):\n",
    "    base_url = \"https://pubchem.ncbi.nlm.nih.gov/rest/pug/compound/cid/{}/PNG\"\n",
    "    url = base_url.format(cid)\n",
    "    return url\n",
    "\n",
    "def display_2d_image(cid):\n",
    "    image_url = get_2d_image_url(cid)\n",
    "    image = Image(urllib.request.urlopen(image_url).read())\n",
    "    display(image)\n",
    "\n",
    "def get_chemical_name(cid):\n",
    "    url = \"https://pubchem.ncbi.nlm.nih.gov/rest/pug/compound/cid/{}/property/IUPACName/txt\".format(cid)\n",
    "    response = urllib.request.urlopen(url)\n",
    "    chemical_name = response.read().decode(\"utf-8\").strip()\n",
    "    return chemical_name\n",
    "\n",
    "def get_synonyms(cid):\n",
    "    url = \"https://pubchem.ncbi.nlm.nih.gov/rest/pug/compound/cid/{}/synonyms/TXT\".format(cid)\n",
    "    response = urllib.request.urlopen(url)\n",
    "    synonyms = response.read().decode(\"utf-8\").strip().split(\"\\n\")\n",
    "    return synonyms\n",
    "\n",
    "# Example usage\n",
    "print(\"=====Drug1=====\")\n",
    "cid =  drug1  # Example CID\n",
    "chemical_name = get_chemical_name(cid)\n",
    "print(\"Chemical Name:\", chemical_name)\n",
    "synonyms = get_synonyms(cid)\n",
    "print(\"Brand Names:\", synonyms)\n",
    "print(\"Visualization of Drug structure:\")\n",
    "display_2d_image(cid)\n",
    "\n",
    "\n",
    "\n",
    "print(\"=====Drug2=====\")\n",
    "cid =  drug2  # Example CID\n",
    "chemical_name = get_chemical_name(cid)\n",
    "print(\"Chemical Name:\", chemical_name)\n",
    "synonyms = get_synonyms(cid)\n",
    "print(\"Brand Names:\", synonyms)\n",
    "print(\"Visualization of Drug structure:\")\n",
    "display_2d_image(cid)"
   ]
  },
  {
   "cell_type": "code",
   "execution_count": 15,
   "metadata": {},
   "outputs": [
    {
     "name": "stdout",
     "output_type": "stream",
     "text": [
      "Side Effect Name:  Alcoholic intoxication\n"
     ]
    }
   ],
   "source": [
    "se=pd.read_csv(\"data/twosides_side_effect_info.csv\")\n",
    "for i in se['SE_map']:\n",
    "    if(i==side_effect):\n",
    "        print(\"Side Effect Name: \",se['Side Effect Name'][i])\n",
    "        break"
   ]
  },
  {
   "cell_type": "code",
   "execution_count": 16,
   "metadata": {},
   "outputs": [
    {
     "data": {
      "image/png": "[encoded data removed]",
      "text/plain": [
       "<Figure size 432x432 with 1 Axes>"
      ]
     },
     "metadata": {
      "needs_background": "light"
     },
     "output_type": "display_data"
    },
    {
     "data": {
      "image/png": "[encoded data removed]",
      "text/plain": [
       "<Figure size 432x432 with 1 Axes>"
      ]
     },
     "metadata": {
      "needs_background": "light"
     },
     "output_type": "display_data"
    },
    {
     "name": "stdout",
     "output_type": "stream",
     "text": [
      "Test set predicted === \n"
     ]
    },
    {
     "data": {
      "text/html": [
       "<div>\n",
       "<style scoped>\n",
       "    .dataframe tbody tr th:only-of-type {\n",
       "        vertical-align: middle;\n",
       "    }\n",
       "\n",
       "    .dataframe tbody tr th {\n",
       "        vertical-align: top;\n",
       "    }\n",
       "\n",
       "    .dataframe thead th {\n",
       "        text-align: right;\n",
       "    }\n",
       "</style>\n",
       "<table border=\"1\" class=\"dataframe\">\n",
       "  <thead>\n",
       "    <tr style=\"text-align: right;\">\n",
       "      <th></th>\n",
       "      <th>drug1</th>\n",
       "      <th>drug2</th>\n",
       "      <th>SE</th>\n",
       "      <th>label</th>\n",
       "      <th>predicted_label_x</th>\n",
       "      <th>predicted_label_y</th>\n",
       "    </tr>\n",
       "  </thead>\n",
       "  <tbody>\n",
       "    <tr>\n",
       "      <th>0</th>\n",
       "      <td>2118.0</td>\n",
       "      <td>5466.0</td>\n",
       "      <td>15.0</td>\n",
       "      <td>0.0</td>\n",
       "      <td>0</td>\n",
       "      <td>0</td>\n",
       "    </tr>\n",
       "  </tbody>\n",
       "</table>\n",
       "</div>"
      ],
      "text/plain": [
       "    drug1   drug2    SE  label  predicted_label_x  predicted_label_y\n",
       "0  2118.0  5466.0  15.0    0.0                  0                  0"
      ]
     },
     "execution_count": 16,
     "metadata": {},
     "output_type": "execute_result"
    }
   ],
   "source": [
    "prediced_label = ddi_model.test(test_x=data.iloc[:,:3], test_y=data.iloc[:,3], exp_df=ts_exp)\n",
    "prediced_label.iloc[:,:6]"
   ]
  },
  {
   "cell_type": "code",
   "execution_count": 17,
   "metadata": {},
   "outputs": [
    {
     "data": {
      "text/plain": [
       "0    0\n",
       "Name: final_predicted_label, dtype: int64"
      ]
     },
     "execution_count": 17,
     "metadata": {},
     "output_type": "execute_result"
    }
   ],
   "source": [
    "prediced_label.iloc[:,9]"
   ]
  }
 ],
 "metadata": {
  "kernelspec": {
   "display_name": "Python 3",
   "language": "python",
   "name": "python3"
  },
  "language_info": {
   "codemirror_mode": {
    "name": "ipython",
    "version": 3
   },
   "file_extension": ".py",
   "mimetype": "text/x-python",
   "name": "python",
   "nbconvert_exporter": "python",
   "pygments_lexer": "ipython3",
   "version": "3.6.13"
  }
 },
 "nbformat": 4,
 "nbformat_minor": 2
}
